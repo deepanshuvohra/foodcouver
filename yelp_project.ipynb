{
 "cells": [
  {
   "cell_type": "markdown",
   "metadata": {},
   "source": [
    "## Questions to answer:\n",
    "\n",
    "\"How much is quality of food weighed against other factors of the experience? (ambiance, service etc)\"\n",
    "\n",
    "\"What is the most highly rated category of restaurant?\"\n",
    "\n",
    "\"What restaurant categories don't exist in Vancouver?\"\n",
    "\n",
    "## Notes:\n",
    "a quick google search says there are >5000 restaurants in vancouver.\n",
    "\n",
    "using the yelp api, 3800 restaurants were able to be extracted, so about 75% of restaurants were found. API does not return businesses without any reviews, so that may be the cause for the missing data."
   ]
  },
  {
   "cell_type": "markdown",
   "metadata": {},
   "source": [
    "# Read in the data and convert it to dataframe"
   ]
  },
  {
   "cell_type": "code",
   "execution_count": 306,
   "metadata": {},
   "outputs": [],
   "source": [
    "import numpy as np\n",
    "import pandas as pd\n",
    "import matplotlib.pyplot as plt\n",
    "import seaborn as sns\n",
    "import json\n",
    "from yelphelpers import *\n",
    "\n",
    "with open('data/vancouver_restaurants.json') as f:\n",
    "    data = json.load(f)\n",
    "    \n",
    "with open('data/categories.json') as f:\n",
    "    cats = json.load(f)"
   ]
  },
  {
   "cell_type": "code",
   "execution_count": 307,
   "metadata": {},
   "outputs": [],
   "source": [
    "df = pd.DataFrame.from_dict(data, orient='columns')"
   ]
  },
  {
   "cell_type": "markdown",
   "metadata": {},
   "source": [
    "### Clean the data\n",
    "\n",
    "Remove unnecessary data\n",
    "\n",
    "One-hot encode categories list\n",
    "\n",
    "Convert string data into numberic data (rating, price)\n",
    "\n",
    "Add neighbourhood name based on zip code"
   ]
  },
  {
   "cell_type": "code",
   "execution_count": 308,
   "metadata": {},
   "outputs": [],
   "source": [
    "# categories of restaurants in a list\n",
    "restaurant_cats = [place['title'] for place in cats if 'restaurants' in place['parents']]"
   ]
  },
  {
   "cell_type": "code",
   "execution_count": 309,
   "metadata": {},
   "outputs": [],
   "source": [
    "#  Remove unnecessary data\n",
    "df = df.drop(columns=['image_url','is_closed','transactions','phone','display_phone'])\n",
    "\n",
    "# TODO::: Expand the list, \"categories\" into separate columns\n",
    "df_categories = df[['id', 'categories']]\n",
    "df.drop(columns=['categories'],inplace=True)\n",
    "df.rename(columns={'alias':'r_alias'},inplace=True)\n",
    "\n",
    "df_categories = expand_list(df_categories,'categories')\n",
    "df_categories = pd.concat([df_categories.drop(['categories'], axis=1), df_categories['categories'].apply(pd.Series)], axis=1)\n",
    "df_categories = df_categories.groupby(['id']).agg(lambda x: tuple(x)).applymap(list).reset_index()\n",
    "\n",
    "df = df.merge(df_alias_title, on='id')\n",
    "df = df.drop('title', 1).join(df.title.str.join('|').str.get_dummies())\n",
    "\n",
    "#____________________________________________________________________________\n",
    "# df_alias_title = df[['id','alias','title']]\n",
    "# df = expand_list(df,'categories')\n",
    "# df.rename(columns={'alias':'r_alias'},inplace=True)\n",
    "# df = pd.concat([df.drop(['categories'], axis=1), df['categories'].apply(pd.Series)], axis=1)\n",
    "# df_alias_title = df[['id','alias','title']]\n",
    "# df_alias_title = df_alias_title.groupby(['id']).agg(lambda x: tuple(x)).applymap(list).reset_index()\n",
    "# df.drop(columns=['alias','title'],inplace=True)\n",
    "# df = df.merge(df_alias_title, on='id')\n",
    "# # One-hot encode categories to be able to be used\n",
    "# df = df.drop('title', 1).join(df.title.str.join('|').str.get_dummies())\n",
    "#____________________________________________________________________________\n",
    "\n",
    "# replace number signs ($) with decimals\n",
    "df.replace(['$','$$','$$$','$$$$'],[1.0,2.0,3.0,4.0], inplace=True)\n",
    "\n"
   ]
  },
  {
   "cell_type": "code",
   "execution_count": 320,
   "metadata": {},
   "outputs": [
    {
     "name": "stdout",
     "output_type": "stream",
     "text": [
      "                       id                                 r_alias  \\\n",
      "0  1tJ25j22FXmkuQQW0F_Qfg  afghan-horsemen-restaurant-vancouver-2   \n",
      "\n",
      "                         name  \\\n",
      "0  Afghan Horsemen Restaurant   \n",
      "\n",
      "                                                 url  review_count  rating  \\\n",
      "0  https://www.yelp.com/biz/afghan-horsemen-resta...           206     4.0   \n",
      "\n",
      "                                         coordinates  price  \\\n",
      "0  {'latitude': 49.2694847203493, 'longitude': -1...    2.0   \n",
      "\n",
      "                                            location     distance      alias  \\\n",
      "0  {'address1': '1833 Anderson Street', 'address2...  1773.077115  [afghani]   \n",
      "\n",
      "   Acai Bowls  Afghan  African  Airport Lounges  American (New)  \\\n",
      "0           0       1        0                0               0   \n",
      "\n",
      "   American (Traditional)  Arabian  Art Galleries  Arts & Entertainment  \\\n",
      "0                       0        0              0                     0   \n",
      "\n",
      "   Asian Fusion  Australian  Austrian  Bagels  Bakeries  Bangladeshi  \\\n",
      "0             0           0         0       0         0            0   \n",
      "\n",
      "   Barbeque  Barbers  Bars  Beer Bar  Beer, Wine & Spirits  Belgian  Bistros  \\\n",
      "0         0        0     0         0                     0        0        0   \n",
      "\n",
      "   Brasseries  Brazilian  Breakfast & Brunch  Breweries  Brewpubs  British  \\\n",
      "0           0          0                   0          0         0        0   \n",
      "\n",
      "   Bubble Tea  Buffets  Burgers  Burmese  Butcher  Cafes  Cajun/Creole  \\\n",
      "0           0        0        0        0        0      0             0   \n",
      "\n",
      "   Cambodian  Canadian (New)  Cantonese  Caribbean  Caterers  Champagne Bars  \\\n",
      "0          0               0          0          0         0               0   \n",
      "\n",
      "   Cheese Shops  Cheesesteaks  Chicken Shop  Chicken Wings  Chinese  \\\n",
      "0             0             0             0              0        0   \n",
      "\n",
      "   Chocolatiers & Shops  Cocktail Bars  Coffee & Tea  Coffee Roasteries  \\\n",
      "0                     0              0             0                  0   \n",
      "\n",
      "   Colombian  Comfort Food  Community Service/Non-Profit  Creperies  Cuban  \\\n",
      "0          0             0                             0          0      0   \n",
      "\n",
      "   Dance Clubs  Delicatessen  Delis  Desserts  Dim Sum  Diners  \\\n",
      "0            0             0      0         0        0       0   \n",
      "\n",
      "   Dinner Theater  Dive Bars  Do-It-Yourself Food  Donairs  Donuts  Dumplings  \\\n",
      "0               0          0                    0        0       0          0   \n",
      "\n",
      "   Ethiopian  Falafel  Farmers Market  Fast Food  Filipino  Fish & Chips  \\\n",
      "0          0        0               0          0         0             0   \n",
      "\n",
      "   Flowers & Gifts  Food Court  Food Delivery Services  Food Stands  \\\n",
      "0                0           0                       0            0   \n",
      "\n",
      "   Food Tours  Food Trucks  French  Fruits & Veggies  Gastropubs  German  \\\n",
      "0           0            0       0                 0           0       0   \n",
      "\n",
      "   Gluten-Free  Greek  Grocery  Guamanian  Hakka  Halal  Hawaiian  \\\n",
      "0            0      0        0          0      0      0         0   \n",
      "\n",
      "   Health Markets  Himalayan/Nepalese  Hong Kong Style Cafe  Hookah Bars  \\\n",
      "0               0                   0                     0            0   \n",
      "\n",
      "   Hot Dogs  Hot Pot  Ice Cream & Frozen Yogurt  Imported Food  Indian  \\\n",
      "0         0        0                          0              0       0   \n",
      "\n",
      "   Indonesian  International  Irish  Irish Pub  Italian  Japanese  \\\n",
      "0           0              0      0          0        0         0   \n",
      "\n",
      "   Jazz & Blues  Juice Bars & Smoothies  Karaoke  Kebab  Korean  Kosher  \\\n",
      "0             0                       0        0      0       0       0   \n",
      "\n",
      "   Language Schools  Latin American  Lebanese  Libraries  Live/Raw Food  \\\n",
      "0                 0               0         0          0              0   \n",
      "\n",
      "   Local Flavor  Lounges  Macarons  Malaysian  Meat Shops  Mediterranean  \\\n",
      "0             0        0         0          0           0              0   \n",
      "\n",
      "   Men's Clothing  Mexican  Middle Eastern  Modern European  Mongolian  \\\n",
      "0               0        0               0                0          0   \n",
      "\n",
      "   Moroccan  Music Venues  Newspapers & Magazines  Noodles  Organic Stores  \\\n",
      "0         0             0                       0        0               0   \n",
      "\n",
      "   Pakistani  Pan Asian  Pancakes  Patisserie/Cake Shop  Persian/Iranian  \\\n",
      "0          0          0         0                     0                0   \n",
      "\n",
      "   Peruvian  Pet Adoption  Piano Bars  Pizza  Playgrounds  Poke  Polish  \\\n",
      "0         0             0           0      0            0     0       0   \n",
      "\n",
      "   Pool & Billiards  Pool Halls  Pop-Up Restaurants  Portuguese  Poutineries  \\\n",
      "0                 0           0                   0           0            0   \n",
      "\n",
      "   Pubs  Ramen  Russian  Salad  Salvadoran  Sandwiches  Scandinavian  Seafood  \\\n",
      "0     0      0        0      0           0           0             0        0   \n",
      "\n",
      "   Seafood Markets  Shaved Snow  Singaporean  Skate Parks  Smokehouse  \\\n",
      "0                0            0            0            0           0   \n",
      "\n",
      "   Social Clubs  Soul Food  Soup  South African  Southern  Spanish  \\\n",
      "0             0          0     0              0         0        0   \n",
      "\n",
      "   Specialty Food  Sports Bars  Sri Lankan  Steakhouses  Street Vendors  \\\n",
      "0               0            0           0            0               0   \n",
      "\n",
      "   Sushi Bars  Syrian  Tabletop Games  Taiwanese  Tapas Bars  \\\n",
      "0           0       0               0          0           0   \n",
      "\n",
      "   Tapas/Small Plates  Tea Rooms  Team Building Activities  Tex-Mex  Thai  \\\n",
      "0                   0          0                         0        0     0   \n",
      "\n",
      "   Tiki Bars  Turkish  Ukrainian  Vape Shops  Vegan  Vegetarian  Venezuelan  \\\n",
      "0          0        0          0           0      0           0           0   \n",
      "\n",
      "   Venues & Event Spaces  Vietnamese  Waffles  Whiskey Bars  Wine Bars  \\\n",
      "0                      0           0        0             0          0   \n",
      "\n",
      "   Women's Clothing  \n",
      "0                 0  \n"
     ]
    }
   ],
   "source": [
    "with pd.option_context('display.max_rows', None, 'display.max_columns', None):  # more options can be specified also\n",
    "    print(df[df['id'] == '1tJ25j22FXmkuQQW0F_Qfg'])"
   ]
  },
  {
   "cell_type": "markdown",
   "metadata": {},
   "source": [
    "### Summary Statistics"
   ]
  },
  {
   "cell_type": "code",
   "execution_count": 311,
   "metadata": {
    "scrolled": true
   },
   "outputs": [
    {
     "data": {
      "image/png": "[encoded data removed]",
      "text/plain": [
       "<Figure size 1440x360 with 3 Axes>"
      ]
     },
     "metadata": {
      "needs_background": "light"
     },
     "output_type": "display_data"
    }
   ],
   "source": [
    "# review_count, rating, price\n",
    "\n",
    "# review_count - line graph\n",
    "# rating - histogram\n",
    "# price - histogram\n",
    "\n",
    "fig, axes = plt.subplots(1,3,figsize=(20,5))\n",
    "sns.set_palette(sns.cubehelix_palette(8))\n",
    "sns.distplot(df['review_count'], hist=False, color=\"g\", ax=axes[0], kde_kws={\"shade\": True}).set_title('review_count')\n",
    "sns.countplot(df['rating'],ax=axes[1]).set_title('rating')\n",
    "sns.countplot(df['price'],ax=axes[2]).set_title('price')\n",
    "plt.show()"
   ]
  },
  {
   "cell_type": "code",
   "execution_count": null,
   "metadata": {},
   "outputs": [],
   "source": []
  }
 ],
 "metadata": {
  "kernelspec": {
   "display_name": "Python 3",
   "language": "python",
   "name": "python3"
  },
  "language_info": {
   "codemirror_mode": {
    "name": "ipython",
    "version": 3
   },
   "file_extension": ".py",
   "mimetype": "text/x-python",
   "name": "python",
   "nbconvert_exporter": "python",
   "pygments_lexer": "ipython3",
   "version": "3.7.4"
  }
 },
 "nbformat": 4,
 "nbformat_minor": 2
}
